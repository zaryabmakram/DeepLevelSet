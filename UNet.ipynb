{
  "nbformat": 4,
  "nbformat_minor": 0,
  "metadata": {
    "colab": {
      "name": "Level_sets_test.ipynb",
      "provenance": [],
      "collapsed_sections": []
    },
    "kernelspec": {
      "name": "python3",
      "display_name": "Python 3"
    },
    "accelerator": "GPU"
  },
  "cells": [
    {
      "cell_type": "code",
      "metadata": {
        "id": "E9gP7DL5kOqI",
        "colab_type": "code",
        "outputId": "b0d09aa5-3414-4b99-98d8-85b1ab233dec",
        "colab": {
          "base_uri": "https://localhost:8080/",
          "height": 128
        }
      },
      "source": [
        "from google.colab import drive\n",
        "drive.mount('/content/drive')"
      ],
      "execution_count": 1,
      "outputs": [
        {
          "output_type": "stream",
          "text": [
            "Go to this URL in a browser: https://accounts.google.com/o/oauth2/auth?client_id=947318989803-6bn6qk8qdgf4n4g3pfee6491hc0brc4i.apps.googleusercontent.com&redirect_uri=urn%3aietf%3awg%3aoauth%3a2.0%3aoob&response_type=code&scope=email%20https%3a%2f%2fwww.googleapis.com%2fauth%2fdocs.test%20https%3a%2f%2fwww.googleapis.com%2fauth%2fdrive%20https%3a%2f%2fwww.googleapis.com%2fauth%2fdrive.photos.readonly%20https%3a%2f%2fwww.googleapis.com%2fauth%2fpeopleapi.readonly\n",
            "\n",
            "Enter your authorization code:\n",
            "··········\n",
            "Mounted at /content/drive\n"
          ],
          "name": "stdout"
        }
      ]
    },
    {
      "cell_type": "code",
      "metadata": {
        "id": "9Q3V3KkKkV9M",
        "colab_type": "code",
        "outputId": "c9f276c7-6436-4ebd-a2d1-e6eca103dae7",
        "colab": {
          "base_uri": "https://localhost:8080/",
          "height": 35
        }
      },
      "source": [
        "cd /content/drive/My Drive/Projects/Level sets"
      ],
      "execution_count": 2,
      "outputs": [
        {
          "output_type": "stream",
          "text": [
            "/content/drive/My Drive/Projects/Level sets\n"
          ],
          "name": "stdout"
        }
      ]
    },
    {
      "cell_type": "code",
      "metadata": {
        "id": "D3KA8QoHmXCz",
        "colab_type": "code",
        "outputId": "3e757427-b308-471d-81cb-f96e5603f219",
        "colab": {
          "base_uri": "https://localhost:8080/",
          "height": 53
        }
      },
      "source": [
        "%tensorflow_version 1.x\n",
        "\n",
        "import gc\n",
        "import os\n",
        "import cv2\n",
        "import numpy as np\n",
        "import matplotlib.pyplot as plt\n",
        "import scipy.ndimage as nd\n",
        "import keras.backend as K\n",
        "import keras.losses\n",
        "\n",
        "from skimage.draw import random_shapes\n",
        "from scipy import io\n",
        "from google.colab.patches import cv2_imshow\n",
        "\n",
        "from keras.models import Model\n",
        "from keras.models import load_model\n",
        "from keras.optimizers import Adam\n",
        "from keras.layers import Input, Conv2D, UpSampling2D, Dropout, LeakyReLU, BatchNormalization, Activation, Lambda\n",
        "from keras.layers.merge import Concatenate"
      ],
      "execution_count": 3,
      "outputs": [
        {
          "output_type": "stream",
          "text": [
            "TensorFlow 1.x selected.\n"
          ],
          "name": "stdout"
        },
        {
          "output_type": "stream",
          "text": [
            "Using TensorFlow backend.\n"
          ],
          "name": "stderr"
        }
      ]
    },
    {
      "cell_type": "markdown",
      "metadata": {
        "id": "f9fTzWJ8nZur",
        "colab_type": "text"
      },
      "source": [
        "**Data Processing**"
      ]
    },
    {
      "cell_type": "markdown",
      "metadata": {
        "id": "11itwFYmsUbX",
        "colab_type": "text"
      },
      "source": [
        "*Generate random masks*"
      ]
    },
    {
      "cell_type": "code",
      "metadata": {
        "id": "guEd4T0L62Tg",
        "colab_type": "code",
        "colab": {}
      },
      "source": [
        "def bwdist(mask):\n",
        "    return nd.distance_transform_edt(np.logical_not(mask))\n",
        "\n",
        "def mask2levelSet(mask):\n",
        "    return bwdist(mask) - bwdist(1 - mask)\n",
        "    \n",
        "def grad(x):\n",
        "    return np.array(np.gradient(x))"
      ],
      "execution_count": 0,
      "outputs": []
    },
    {
      "cell_type": "code",
      "metadata": {
        "id": "doSaqJfysTKJ",
        "colab_type": "code",
        "colab": {}
      },
      "source": [
        "dataset = []\n",
        "reference = []\n",
        "initializations = []\n",
        "\n",
        "for file_name in os.listdir('./data/images'):\n",
        "  index = int(file_name.split('.')[0])\n",
        "  \n",
        "  image = cv2.imread(os.path.join('./data/images', file_name), 0)/255.0\n",
        "  mask = io.loadmat(os.path.join('./data/groundTruth', str(index)+ '.mat'))\n",
        "  mask = (mask['groundTruth'])[0][0][0][0][0] - 1\n",
        "\n",
        "  shape = image.shape[:2]\n",
        "  init, _ = random_shapes(shape, max_shapes=1, shape=None, multichannel=False)\n",
        "  init = np.where(init == 255, 0, 1)\n",
        "\n",
        "  phi_i = mask2levelSet(init)\n",
        "  phi_gt = mask2levelSet(mask)\n",
        "  F = phi_gt - phi_i\n",
        "  F = F / np.abs(np.where(F == 0, 1, F)) #prevent division by 0 \n",
        "\n",
        "  dataset.append([image, phi_i, F])\n",
        "  reference.append(phi_gt)\n",
        "  initializations.append(init)"
      ],
      "execution_count": 0,
      "outputs": []
    },
    {
      "cell_type": "code",
      "metadata": {
        "id": "YAukZYfgBuzo",
        "colab_type": "code",
        "colab": {}
      },
      "source": [
        "X = []\n",
        "Y = []\n",
        "\n",
        "for data in dataset:\n",
        "  X.append(np.concatenate([np.expand_dims(data[0], -1), np.expand_dims(data[1], -1)], axis = -1))\n",
        "  Y.append(np.expand_dims(data[2], -1))\n",
        "  \n",
        "X = np.asarray(X)\n",
        "Y = np.asarray(Y)"
      ],
      "execution_count": 0,
      "outputs": []
    },
    {
      "cell_type": "code",
      "metadata": {
        "id": "99bT8y6WFEs6",
        "colab_type": "code",
        "outputId": "18823bd3-5141-4b76-f6e2-9f02ed33a5e1",
        "colab": {
          "base_uri": "https://localhost:8080/",
          "height": 35
        }
      },
      "source": [
        "X.shape, Y.shape"
      ],
      "execution_count": 8,
      "outputs": [
        {
          "output_type": "execute_result",
          "data": {
            "text/plain": [
              "((256, 256, 256, 2), (256, 256, 256, 1))"
            ]
          },
          "metadata": {
            "tags": []
          },
          "execution_count": 8
        }
      ]
    },
    {
      "cell_type": "markdown",
      "metadata": {
        "id": "9z4Tt4zRoez9",
        "colab_type": "text"
      },
      "source": [
        "**Model**"
      ]
    },
    {
      "cell_type": "code",
      "metadata": {
        "id": "lDcx8L3GkGlw",
        "colab_type": "code",
        "colab": {}
      },
      "source": [
        "class UNET(object):\n",
        "  def __init__(self, rows = 512, cols = 512, channels = 4, net_name = 'Unet', lr = 0.0002):\n",
        "      \n",
        "      self.input_shape = (rows, cols, channels)\n",
        "      self.net_name = net_name\n",
        "      self.history = None\n",
        "      \n",
        "      self.model = self.UNet_model()\n",
        "\n",
        "      self.compile_unet(self.model, lr)\n",
        "      \n",
        "  def UNet_model(self, train_bn = True):\n",
        "      def encode(features_in, filters, kernel_size, batch_normalization = True):\n",
        "          \n",
        "          features_out = Conv2D(filters, kernel_size, strides = 2, padding = 'same')(features_in)\n",
        "          \n",
        "          if(batch_normalization):\n",
        "              features_out = BatchNormalization()(features_out, training = train_bn)\n",
        "          \n",
        "          features_out = Activation('relu')(features_out)\n",
        "                      \n",
        "          return features_out\n",
        "      \n",
        "      def decode(features_in, features_conc, filters, kernel_size, batch_normalization = True):\n",
        "          \n",
        "          upsampled_features = UpSampling2D(size = (2,2))(features_in)\n",
        "                      \n",
        "          concat_features = Concatenate(axis = 3)([features_conc, upsampled_features])\n",
        "          \n",
        "          features_out = Conv2D(filters, kernel_size, padding = 'same')(concat_features)\n",
        "          \n",
        "          if(batch_normalization):\n",
        "              features_out = BatchNormalization()(features_out)\n",
        "          \n",
        "          features_out = LeakyReLU(alpha = 0.2)(features_out)\n",
        "          \n",
        "          return features_out\n",
        "      \n",
        "      \n",
        "      encodings = []\n",
        "      features_in = Input(shape = self.input_shape)\n",
        "      \n",
        "      encodings.append(features_in)\n",
        "      \n",
        "      encodings.append(encode(encodings[0], 64, 7, False))\n",
        "      encodings.append(encode(encodings[1], 128, 5))\n",
        "      encodings.append(encode(encodings[2], 256, 5))\n",
        "      encodings.append(encode(encodings[3], 512, 3))\n",
        "      encodings.append(encode(encodings[4], 512, 3))\n",
        "      encodings.append(encode(encodings[5], 512, 3))\n",
        "      encodings.append(encode(encodings[6], 512, 3))\n",
        "      encodings.append(encode(encodings[7], 512, 3))\n",
        "  \n",
        "      \n",
        "      decode_features = encodings[8]\n",
        "      \n",
        "      decode_features = decode(decode_features, encodings[7], 512, 3)\n",
        "      decode_features = decode(decode_features, encodings[6], 512, 3)\n",
        "      decode_features = decode(decode_features, encodings[5], 512, 3)\n",
        "      decode_features = decode(decode_features, encodings[4], 512, 3)\n",
        "      decode_features = decode(decode_features, encodings[3], 512, 3)\n",
        "      decode_features = decode(decode_features, encodings[2], 256, 3)\n",
        "      decode_features = decode(decode_features, encodings[1], 128, 3)\n",
        "      decode_features = decode(decode_features, encodings[0], 64, 3, False)\n",
        "\n",
        "      def sigmoid(x):\n",
        "        return (K.sigmoid(x) * 2) - 1\n",
        "\n",
        "      output = Conv2D(1, 1, activation = sigmoid, name='output_img')(decode_features)\n",
        "\n",
        "      model = Model(inputs = [features_in], outputs = output)\n",
        "      \n",
        "      return model\n",
        "\n",
        "  def compile_unet(self, model, lr):\n",
        "      model.compile(\n",
        "          optimizer = Adam(lr=lr),\n",
        "          loss=keras.losses.mean_squared_error\n",
        "      )  \n",
        "  \n",
        "  def summary(self):\n",
        "      print(self.model.summary())\n",
        "      \n",
        "  def predict(self, sample, **kwargs):\n",
        "      return self.model.predict(sample, **kwargs)\n",
        "\n",
        "  def fit(self, X, Y, epochs):\n",
        "      self.history = self.model.fit(X, Y, batch_size=16, epochs=epochs, verbose=1)\n",
        "  \n",
        "  def load(self, filepath, train_bn = True, lr=10e-3):\n",
        "\n",
        "      self.model = self.UNet_model(train_bn)\n",
        "      self.compile_unet(self.model, lr) \n",
        "\n",
        "      epoch = int(os.path.basename(filepath).split('-')[0])\n",
        "\n",
        "      self.current_epoch = epoch\n",
        "\n",
        "      self.model.load_weights(filepath)\n",
        "      \n",
        "  def fit_generator(self, generator, *args, **kwargs):\n",
        "      self.history = self.model.fit_generator(generator, epochs = self.current_epoch, *args, **kwargs)\n",
        "\n",
        "  def get_records(self):\n",
        "      return self.history\n",
        "\n",
        "  def save(self, path, weights_only = True):\n",
        "      if(weights_only):\n",
        "          self.model.save_weights(path)\n",
        "      else:\n",
        "          self.model.save(path)\n"
      ],
      "execution_count": 0,
      "outputs": []
    },
    {
      "cell_type": "code",
      "metadata": {
        "id": "QXW9pE3TBpM8",
        "colab_type": "code",
        "colab": {}
      },
      "source": [
        "rows, cols = X[0].shape[:2]\n",
        "unet_model = UNET(rows, cols, 2, lr = 10e-4)"
      ],
      "execution_count": 0,
      "outputs": []
    },
    {
      "cell_type": "code",
      "metadata": {
        "id": "d00y3iWvCZpq",
        "colab_type": "code",
        "colab": {
          "base_uri": "https://localhost:8080/",
          "height": 1000
        },
        "outputId": "4e728001-6a11-4e0b-dd96-d3719984f47d"
      },
      "source": [
        "unet_model.fit(X, Y, 200)\n",
        "unet_model.save('{0} loss.h5'.format(np.round(unet_model.history.history['loss'][-1],3)))\n",
        "\n",
        "from matplotlib import pyplot as plt\n",
        "plt.plot(unet_model.history.history['loss'])\n",
        "plt.show()"
      ],
      "execution_count": 14,
      "outputs": [
        {
          "output_type": "stream",
          "text": [
            "Epoch 1/200\n",
            "256/256 [==============================] - 16s 62ms/step - loss: 0.3811\n",
            "Epoch 2/200\n",
            "256/256 [==============================] - 10s 41ms/step - loss: 0.3371\n",
            "Epoch 3/200\n",
            "256/256 [==============================] - 10s 41ms/step - loss: 0.3246\n",
            "Epoch 4/200\n",
            "256/256 [==============================] - 10s 41ms/step - loss: 0.3275\n",
            "Epoch 5/200\n",
            "256/256 [==============================] - 11s 41ms/step - loss: 0.3169\n",
            "Epoch 6/200\n",
            "256/256 [==============================] - 11s 41ms/step - loss: 0.3071\n",
            "Epoch 7/200\n",
            "256/256 [==============================] - 11s 41ms/step - loss: 0.3055\n",
            "Epoch 8/200\n",
            "256/256 [==============================] - 11s 41ms/step - loss: 0.3057\n",
            "Epoch 9/200\n",
            "256/256 [==============================] - 11s 42ms/step - loss: 0.3280\n",
            "Epoch 10/200\n",
            "256/256 [==============================] - 11s 42ms/step - loss: 0.3050\n",
            "Epoch 11/200\n",
            "256/256 [==============================] - 11s 42ms/step - loss: 0.2973\n",
            "Epoch 12/200\n",
            "256/256 [==============================] - 11s 42ms/step - loss: 0.3051\n",
            "Epoch 13/200\n",
            "256/256 [==============================] - 11s 42ms/step - loss: 0.2969\n",
            "Epoch 14/200\n",
            "256/256 [==============================] - 11s 42ms/step - loss: 0.2984\n",
            "Epoch 15/200\n",
            "256/256 [==============================] - 11s 42ms/step - loss: 0.2884\n",
            "Epoch 16/200\n",
            "256/256 [==============================] - 11s 42ms/step - loss: 0.2920\n",
            "Epoch 17/200\n",
            "256/256 [==============================] - 11s 43ms/step - loss: 0.2977\n",
            "Epoch 18/200\n",
            "256/256 [==============================] - 11s 42ms/step - loss: 0.2929\n",
            "Epoch 19/200\n",
            "256/256 [==============================] - 11s 42ms/step - loss: 0.2859\n",
            "Epoch 20/200\n",
            "256/256 [==============================] - 11s 43ms/step - loss: 0.2772\n",
            "Epoch 21/200\n",
            "256/256 [==============================] - 11s 43ms/step - loss: 0.2833\n",
            "Epoch 22/200\n",
            "256/256 [==============================] - 11s 43ms/step - loss: 0.2861\n",
            "Epoch 23/200\n",
            "256/256 [==============================] - 11s 43ms/step - loss: 0.2816\n",
            "Epoch 24/200\n",
            "256/256 [==============================] - 11s 43ms/step - loss: 0.2759\n",
            "Epoch 25/200\n",
            "256/256 [==============================] - 11s 43ms/step - loss: 0.2703\n",
            "Epoch 26/200\n",
            "256/256 [==============================] - 11s 43ms/step - loss: 0.2652\n",
            "Epoch 27/200\n",
            "256/256 [==============================] - 11s 43ms/step - loss: 0.2563\n",
            "Epoch 28/200\n",
            "256/256 [==============================] - 11s 43ms/step - loss: 0.2573\n",
            "Epoch 29/200\n",
            "256/256 [==============================] - 11s 43ms/step - loss: 0.2465\n",
            "Epoch 30/200\n",
            "256/256 [==============================] - 11s 43ms/step - loss: 0.2347\n",
            "Epoch 31/200\n",
            "256/256 [==============================] - 11s 43ms/step - loss: 0.2275\n",
            "Epoch 32/200\n",
            "256/256 [==============================] - 11s 43ms/step - loss: 0.2374\n",
            "Epoch 33/200\n",
            "256/256 [==============================] - 11s 43ms/step - loss: 0.2176\n",
            "Epoch 34/200\n",
            "256/256 [==============================] - 11s 43ms/step - loss: 0.2058\n",
            "Epoch 35/200\n",
            "256/256 [==============================] - 11s 43ms/step - loss: 0.2018\n",
            "Epoch 36/200\n",
            "256/256 [==============================] - 11s 43ms/step - loss: 0.2122\n",
            "Epoch 37/200\n",
            "256/256 [==============================] - 11s 43ms/step - loss: 0.1920\n",
            "Epoch 38/200\n",
            "256/256 [==============================] - 11s 43ms/step - loss: 0.2033\n",
            "Epoch 39/200\n",
            "256/256 [==============================] - 11s 43ms/step - loss: 0.1662\n",
            "Epoch 40/200\n",
            "256/256 [==============================] - 11s 43ms/step - loss: 0.1635\n",
            "Epoch 41/200\n",
            "256/256 [==============================] - 11s 43ms/step - loss: 0.1489\n",
            "Epoch 42/200\n",
            "256/256 [==============================] - 11s 43ms/step - loss: 0.1382\n",
            "Epoch 43/200\n",
            "256/256 [==============================] - 11s 43ms/step - loss: 0.1355\n",
            "Epoch 44/200\n",
            "256/256 [==============================] - 11s 43ms/step - loss: 0.1495\n",
            "Epoch 45/200\n",
            "256/256 [==============================] - 11s 43ms/step - loss: 0.1453\n",
            "Epoch 46/200\n",
            "256/256 [==============================] - 11s 43ms/step - loss: 0.1316\n",
            "Epoch 47/200\n",
            "256/256 [==============================] - 11s 43ms/step - loss: 0.1345\n",
            "Epoch 48/200\n",
            "256/256 [==============================] - 11s 43ms/step - loss: 0.1170\n",
            "Epoch 49/200\n",
            "256/256 [==============================] - 11s 43ms/step - loss: 0.1102\n",
            "Epoch 50/200\n",
            "256/256 [==============================] - 11s 43ms/step - loss: 0.1100\n",
            "Epoch 51/200\n",
            "256/256 [==============================] - 11s 43ms/step - loss: 0.1285\n",
            "Epoch 52/200\n",
            "256/256 [==============================] - 11s 43ms/step - loss: 0.1146\n",
            "Epoch 53/200\n",
            "256/256 [==============================] - 11s 43ms/step - loss: 0.1059\n",
            "Epoch 54/200\n",
            "256/256 [==============================] - 11s 43ms/step - loss: 0.1118\n",
            "Epoch 55/200\n",
            "256/256 [==============================] - 11s 43ms/step - loss: 0.0992\n",
            "Epoch 56/200\n",
            "256/256 [==============================] - 11s 43ms/step - loss: 0.0921\n",
            "Epoch 57/200\n",
            "256/256 [==============================] - 11s 43ms/step - loss: 0.1004\n",
            "Epoch 58/200\n",
            "256/256 [==============================] - 11s 43ms/step - loss: 0.0995\n",
            "Epoch 59/200\n",
            "256/256 [==============================] - 11s 43ms/step - loss: 0.0920\n",
            "Epoch 60/200\n",
            "256/256 [==============================] - 11s 43ms/step - loss: 0.0932\n",
            "Epoch 61/200\n",
            "256/256 [==============================] - 11s 43ms/step - loss: 0.0878\n",
            "Epoch 62/200\n",
            "256/256 [==============================] - 11s 43ms/step - loss: 0.0837\n",
            "Epoch 63/200\n",
            "256/256 [==============================] - 11s 43ms/step - loss: 0.0737\n",
            "Epoch 64/200\n",
            "256/256 [==============================] - 11s 43ms/step - loss: 0.0781\n",
            "Epoch 65/200\n",
            "256/256 [==============================] - 11s 43ms/step - loss: 0.0793\n",
            "Epoch 66/200\n",
            "256/256 [==============================] - 11s 43ms/step - loss: 0.0785\n",
            "Epoch 67/200\n",
            "256/256 [==============================] - 11s 43ms/step - loss: 0.0740\n",
            "Epoch 68/200\n",
            "256/256 [==============================] - 11s 43ms/step - loss: 0.0684\n",
            "Epoch 69/200\n",
            "256/256 [==============================] - 11s 43ms/step - loss: 0.0726\n",
            "Epoch 70/200\n",
            "256/256 [==============================] - 11s 43ms/step - loss: 0.0718\n",
            "Epoch 71/200\n",
            "256/256 [==============================] - 11s 43ms/step - loss: 0.0661\n",
            "Epoch 72/200\n",
            "256/256 [==============================] - 11s 43ms/step - loss: 0.0619\n",
            "Epoch 73/200\n",
            "256/256 [==============================] - 11s 43ms/step - loss: 0.0620\n",
            "Epoch 74/200\n",
            "256/256 [==============================] - 11s 43ms/step - loss: 0.0656\n",
            "Epoch 75/200\n",
            "256/256 [==============================] - 11s 43ms/step - loss: 0.0626\n",
            "Epoch 76/200\n",
            "256/256 [==============================] - 11s 43ms/step - loss: 0.0557\n",
            "Epoch 77/200\n",
            "256/256 [==============================] - 11s 43ms/step - loss: 0.0596\n",
            "Epoch 78/200\n",
            "256/256 [==============================] - 11s 43ms/step - loss: 0.0685\n",
            "Epoch 79/200\n",
            "256/256 [==============================] - 11s 43ms/step - loss: 0.0673\n",
            "Epoch 80/200\n",
            "256/256 [==============================] - 11s 43ms/step - loss: 0.0610\n",
            "Epoch 81/200\n",
            "256/256 [==============================] - 11s 43ms/step - loss: 0.0621\n",
            "Epoch 82/200\n",
            "256/256 [==============================] - 11s 43ms/step - loss: 0.0546\n",
            "Epoch 83/200\n",
            "256/256 [==============================] - 11s 43ms/step - loss: 0.0539\n",
            "Epoch 84/200\n",
            "256/256 [==============================] - 11s 43ms/step - loss: 0.0550\n",
            "Epoch 85/200\n",
            "256/256 [==============================] - 11s 43ms/step - loss: 0.0583\n",
            "Epoch 86/200\n",
            "256/256 [==============================] - 11s 43ms/step - loss: 0.0608\n",
            "Epoch 87/200\n",
            "256/256 [==============================] - 11s 43ms/step - loss: 0.0551\n",
            "Epoch 88/200\n",
            "256/256 [==============================] - 11s 43ms/step - loss: 0.0547\n",
            "Epoch 89/200\n",
            "256/256 [==============================] - 11s 43ms/step - loss: 0.0463\n",
            "Epoch 90/200\n",
            "256/256 [==============================] - 11s 43ms/step - loss: 0.0425\n",
            "Epoch 91/200\n",
            "256/256 [==============================] - 11s 43ms/step - loss: 0.0409\n",
            "Epoch 92/200\n",
            "256/256 [==============================] - 11s 43ms/step - loss: 0.0445\n",
            "Epoch 93/200\n",
            "256/256 [==============================] - 11s 43ms/step - loss: 0.0426\n",
            "Epoch 94/200\n",
            "256/256 [==============================] - 11s 43ms/step - loss: 0.0469\n",
            "Epoch 95/200\n",
            "256/256 [==============================] - 11s 43ms/step - loss: 0.0434\n",
            "Epoch 96/200\n",
            "256/256 [==============================] - 11s 43ms/step - loss: 0.0489\n",
            "Epoch 97/200\n",
            "256/256 [==============================] - 11s 43ms/step - loss: 0.0419\n",
            "Epoch 98/200\n",
            "256/256 [==============================] - 11s 43ms/step - loss: 0.0405\n",
            "Epoch 99/200\n",
            "256/256 [==============================] - 11s 43ms/step - loss: 0.0358\n",
            "Epoch 100/200\n",
            "256/256 [==============================] - 11s 43ms/step - loss: 0.0427\n",
            "Epoch 101/200\n",
            "256/256 [==============================] - 11s 43ms/step - loss: 0.0422\n",
            "Epoch 102/200\n",
            "256/256 [==============================] - 11s 43ms/step - loss: 0.0381\n",
            "Epoch 103/200\n",
            "256/256 [==============================] - 11s 43ms/step - loss: 0.0513\n",
            "Epoch 104/200\n",
            "256/256 [==============================] - 11s 43ms/step - loss: 0.0536\n",
            "Epoch 105/200\n",
            "256/256 [==============================] - 11s 43ms/step - loss: 0.0420\n",
            "Epoch 106/200\n",
            "256/256 [==============================] - 11s 43ms/step - loss: 0.0364\n",
            "Epoch 107/200\n",
            "256/256 [==============================] - 11s 43ms/step - loss: 0.0358\n",
            "Epoch 108/200\n",
            "256/256 [==============================] - 11s 43ms/step - loss: 0.0341\n",
            "Epoch 109/200\n",
            "256/256 [==============================] - 11s 43ms/step - loss: 0.0326\n",
            "Epoch 110/200\n",
            "256/256 [==============================] - 11s 43ms/step - loss: 0.0345\n",
            "Epoch 111/200\n",
            "256/256 [==============================] - 11s 43ms/step - loss: 0.0349\n",
            "Epoch 112/200\n",
            "256/256 [==============================] - 11s 43ms/step - loss: 0.0300\n",
            "Epoch 113/200\n",
            "256/256 [==============================] - 11s 43ms/step - loss: 0.0317\n",
            "Epoch 114/200\n",
            "256/256 [==============================] - 11s 43ms/step - loss: 0.0387\n",
            "Epoch 115/200\n",
            "256/256 [==============================] - 11s 43ms/step - loss: 0.0351\n",
            "Epoch 116/200\n",
            "256/256 [==============================] - 11s 43ms/step - loss: 0.0388\n",
            "Epoch 117/200\n",
            "256/256 [==============================] - 11s 43ms/step - loss: 0.0404\n",
            "Epoch 118/200\n",
            "256/256 [==============================] - 11s 43ms/step - loss: 0.0343\n",
            "Epoch 119/200\n",
            "256/256 [==============================] - 11s 43ms/step - loss: 0.0383\n",
            "Epoch 120/200\n",
            "256/256 [==============================] - 11s 43ms/step - loss: 0.0415\n",
            "Epoch 121/200\n",
            "256/256 [==============================] - 11s 43ms/step - loss: 0.0420\n",
            "Epoch 122/200\n",
            "256/256 [==============================] - 11s 43ms/step - loss: 0.0397\n",
            "Epoch 123/200\n",
            "256/256 [==============================] - 11s 43ms/step - loss: 0.0359\n",
            "Epoch 124/200\n",
            "256/256 [==============================] - 11s 43ms/step - loss: 0.0322\n",
            "Epoch 125/200\n",
            "256/256 [==============================] - 11s 43ms/step - loss: 0.0326\n",
            "Epoch 126/200\n",
            "256/256 [==============================] - 11s 43ms/step - loss: 0.0306\n",
            "Epoch 127/200\n",
            "256/256 [==============================] - 11s 43ms/step - loss: 0.0333\n",
            "Epoch 128/200\n",
            "256/256 [==============================] - 11s 43ms/step - loss: 0.0468\n",
            "Epoch 129/200\n",
            "256/256 [==============================] - 11s 43ms/step - loss: 0.0652\n",
            "Epoch 130/200\n",
            "256/256 [==============================] - 11s 43ms/step - loss: 0.0543\n",
            "Epoch 131/200\n",
            "256/256 [==============================] - 11s 43ms/step - loss: 0.0398\n",
            "Epoch 132/200\n",
            "256/256 [==============================] - 11s 43ms/step - loss: 0.0358\n",
            "Epoch 133/200\n",
            "256/256 [==============================] - 11s 43ms/step - loss: 0.0327\n",
            "Epoch 134/200\n",
            "256/256 [==============================] - 11s 43ms/step - loss: 0.0334\n",
            "Epoch 135/200\n",
            "256/256 [==============================] - 11s 43ms/step - loss: 0.0295\n",
            "Epoch 136/200\n",
            "256/256 [==============================] - 11s 43ms/step - loss: 0.0295\n",
            "Epoch 137/200\n",
            "256/256 [==============================] - 11s 43ms/step - loss: 0.0328\n",
            "Epoch 138/200\n",
            "256/256 [==============================] - 11s 43ms/step - loss: 0.0263\n",
            "Epoch 139/200\n",
            "256/256 [==============================] - 11s 43ms/step - loss: 0.0283\n",
            "Epoch 140/200\n",
            "256/256 [==============================] - 11s 43ms/step - loss: 0.0260\n",
            "Epoch 141/200\n",
            "256/256 [==============================] - 11s 43ms/step - loss: 0.0256\n",
            "Epoch 142/200\n",
            "256/256 [==============================] - 11s 43ms/step - loss: 0.0310\n",
            "Epoch 143/200\n",
            "256/256 [==============================] - 11s 43ms/step - loss: 0.0323\n",
            "Epoch 144/200\n",
            "256/256 [==============================] - 11s 43ms/step - loss: 0.0352\n",
            "Epoch 145/200\n",
            "256/256 [==============================] - 11s 43ms/step - loss: 0.0388\n",
            "Epoch 146/200\n",
            "256/256 [==============================] - 11s 42ms/step - loss: 0.0328\n",
            "Epoch 147/200\n",
            "256/256 [==============================] - 11s 43ms/step - loss: 0.0304\n",
            "Epoch 148/200\n",
            "256/256 [==============================] - 11s 43ms/step - loss: 0.0225\n",
            "Epoch 149/200\n",
            "256/256 [==============================] - 11s 43ms/step - loss: 0.0214\n",
            "Epoch 150/200\n",
            "256/256 [==============================] - 11s 43ms/step - loss: 0.0219\n",
            "Epoch 151/200\n",
            "256/256 [==============================] - 11s 43ms/step - loss: 0.0224\n",
            "Epoch 152/200\n",
            "256/256 [==============================] - 11s 43ms/step - loss: 0.0193\n",
            "Epoch 153/200\n",
            "256/256 [==============================] - 11s 43ms/step - loss: 0.0215\n",
            "Epoch 154/200\n",
            "256/256 [==============================] - 11s 43ms/step - loss: 0.0217\n",
            "Epoch 155/200\n",
            "256/256 [==============================] - 11s 43ms/step - loss: 0.0256\n",
            "Epoch 156/200\n",
            "256/256 [==============================] - 11s 43ms/step - loss: 0.0242\n",
            "Epoch 157/200\n",
            "256/256 [==============================] - 11s 43ms/step - loss: 0.0256\n",
            "Epoch 158/200\n",
            "256/256 [==============================] - 11s 43ms/step - loss: 0.0344\n",
            "Epoch 159/200\n",
            "256/256 [==============================] - 11s 43ms/step - loss: 0.0280\n",
            "Epoch 160/200\n",
            "256/256 [==============================] - 11s 43ms/step - loss: 0.0237\n",
            "Epoch 161/200\n",
            "256/256 [==============================] - 11s 43ms/step - loss: 0.0288\n",
            "Epoch 162/200\n",
            "256/256 [==============================] - 11s 43ms/step - loss: 0.0318\n",
            "Epoch 163/200\n",
            "256/256 [==============================] - 11s 43ms/step - loss: 0.0319\n",
            "Epoch 164/200\n",
            "256/256 [==============================] - 11s 43ms/step - loss: 0.0304\n",
            "Epoch 165/200\n",
            "256/256 [==============================] - 11s 43ms/step - loss: 0.0344\n",
            "Epoch 166/200\n",
            "256/256 [==============================] - 11s 43ms/step - loss: 0.0364\n",
            "Epoch 167/200\n",
            "256/256 [==============================] - 11s 43ms/step - loss: 0.0361\n",
            "Epoch 168/200\n",
            "256/256 [==============================] - 11s 43ms/step - loss: 0.0286\n",
            "Epoch 169/200\n",
            "256/256 [==============================] - 11s 43ms/step - loss: 0.0302\n",
            "Epoch 170/200\n",
            "256/256 [==============================] - 11s 43ms/step - loss: 0.0263\n",
            "Epoch 171/200\n",
            "256/256 [==============================] - 11s 43ms/step - loss: 0.0229\n",
            "Epoch 172/200\n",
            "256/256 [==============================] - 11s 43ms/step - loss: 0.0196\n",
            "Epoch 173/200\n",
            "256/256 [==============================] - 11s 43ms/step - loss: 0.0211\n",
            "Epoch 174/200\n",
            "256/256 [==============================] - 11s 43ms/step - loss: 0.0183\n",
            "Epoch 175/200\n",
            "256/256 [==============================] - 11s 43ms/step - loss: 0.0210\n",
            "Epoch 176/200\n",
            "256/256 [==============================] - 11s 43ms/step - loss: 0.0295\n",
            "Epoch 177/200\n",
            "256/256 [==============================] - 11s 43ms/step - loss: 0.0270\n",
            "Epoch 178/200\n",
            "256/256 [==============================] - 11s 43ms/step - loss: 0.0292\n",
            "Epoch 179/200\n",
            "256/256 [==============================] - 11s 43ms/step - loss: 0.0295\n",
            "Epoch 180/200\n",
            "256/256 [==============================] - 11s 43ms/step - loss: 0.0238\n",
            "Epoch 181/200\n",
            "256/256 [==============================] - 11s 43ms/step - loss: 0.0184\n",
            "Epoch 182/200\n",
            "256/256 [==============================] - 11s 43ms/step - loss: 0.0225\n",
            "Epoch 183/200\n",
            "256/256 [==============================] - 11s 43ms/step - loss: 0.0303\n",
            "Epoch 184/200\n",
            "256/256 [==============================] - 11s 43ms/step - loss: 0.0386\n",
            "Epoch 185/200\n",
            "256/256 [==============================] - 11s 43ms/step - loss: 0.0326\n",
            "Epoch 186/200\n",
            "256/256 [==============================] - 11s 43ms/step - loss: 0.0296\n",
            "Epoch 187/200\n",
            "256/256 [==============================] - 11s 43ms/step - loss: 0.0317\n",
            "Epoch 188/200\n",
            "256/256 [==============================] - 11s 43ms/step - loss: 0.0236\n",
            "Epoch 189/200\n",
            "256/256 [==============================] - 11s 43ms/step - loss: 0.0203\n",
            "Epoch 190/200\n",
            "256/256 [==============================] - 11s 43ms/step - loss: 0.0247\n",
            "Epoch 191/200\n",
            "256/256 [==============================] - 11s 43ms/step - loss: 0.0183\n",
            "Epoch 192/200\n",
            "256/256 [==============================] - 11s 43ms/step - loss: 0.0223\n",
            "Epoch 193/200\n",
            "256/256 [==============================] - 11s 43ms/step - loss: 0.0169\n",
            "Epoch 194/200\n",
            "256/256 [==============================] - 11s 43ms/step - loss: 0.0171\n",
            "Epoch 195/200\n",
            "256/256 [==============================] - 11s 42ms/step - loss: 0.0155\n",
            "Epoch 196/200\n",
            "256/256 [==============================] - 11s 43ms/step - loss: 0.0145\n",
            "Epoch 197/200\n",
            "256/256 [==============================] - 11s 43ms/step - loss: 0.0172\n",
            "Epoch 198/200\n",
            "256/256 [==============================] - 11s 42ms/step - loss: 0.0158\n",
            "Epoch 199/200\n",
            "256/256 [==============================] - 11s 43ms/step - loss: 0.0144\n",
            "Epoch 200/200\n",
            "256/256 [==============================] - 11s 43ms/step - loss: 0.0214\n"
          ],
          "name": "stdout"
        },
        {
          "output_type": "display_data",
          "data": {
            "image/png": "[encoded data removed]",
            "text/plain": [
              "<Figure size 432x288 with 1 Axes>"
            ]
          },
          "metadata": {
            "tags": [],
            "needs_background": "light"
          }
        }
      ]
    },
    {
      "cell_type": "code",
      "metadata": {
        "id": "1Vo6PRvjF7dd",
        "colab_type": "code",
        "outputId": "902c1113-452c-4229-cee1-4b4b2c84e36b",
        "colab": {
          "base_uri": "https://localhost:8080/",
          "height": 1000
        }
      },
      "source": [
        "for i in range(10):\n",
        "  idx = np.random.randint(0, 255, size=1)[0]\n",
        "  phi = X[idx][:, :,-1]\n",
        "  print(i)\n",
        "\n",
        "  dphi = grad(phi)\n",
        "  dphi_norm = np.sqrt(np.sum(np.square(dphi)))\n",
        "\n",
        "  \n",
        "  F = unet_model.predict(np.expand_dims(X[idx],axis=0))[0,:,:,0]\n",
        "\n",
        "  dphi_t = F * dphi_norm\n",
        "  phi_t1 = phi + dphi_t\n",
        "\n",
        "  plt.imshow(F, cmap='gray')\n",
        "  plt.show()\n",
        "\n",
        "  plt.imshow(Y[idx,:,:,0], cmap='gray')\n",
        "  plt.show()"
      ],
      "execution_count": 18,
      "outputs": [
        {
          "output_type": "stream",
          "text": [
            "0\n"
          ],
          "name": "stdout"
        },
        {
          "output_type": "display_data",
          "data": {
            "image/png": "[encoded data removed]",
            "text/plain": [
              "<Figure size 432x288 with 1 Axes>"
            ]
          },
          "metadata": {
            "tags": [],
            "needs_background": "light"
          }
        },
        {
          "output_type": "display_data",
          "data": {
            "image/png": "[encoded data removed]",
            "text/plain": [
              "<Figure size 432x288 with 1 Axes>"
            ]
          },
          "metadata": {
            "tags": [],
            "needs_background": "light"
          }
        },
        {
          "output_type": "stream",
          "text": [
            "1\n"
          ],
          "name": "stdout"
        },
        {
          "output_type": "display_data",
          "data": {
            "image/png": "[encoded data removed]",
            "text/plain": [
              "<Figure size 432x288 with 1 Axes>"
            ]
          },
          "metadata": {
            "tags": [],
            "needs_background": "light"
          }
        },
        {
          "output_type": "display_data",
          "data": {
            "image/png": "[encoded data removed]",
            "text/plain": [
              "<Figure size 432x288 with 1 Axes>"
            ]
          },
          "metadata": {
            "tags": [],
            "needs_background": "light"
          }
        },
        {
          "output_type": "stream",
          "text": [
            "2\n"
          ],
          "name": "stdout"
        },
        {
          "output_type": "display_data",
          "data": {
            "image/png": "[encoded data removed]",
            "text/plain": [
              "<Figure size 432x288 with 1 Axes>"
            ]
          },
          "metadata": {
            "tags": [],
            "needs_background": "light"
          }
        },
        {
          "output_type": "display_data",
          "data": {
            "image/png": "[encoded data removed]",
            "text/plain": [
              "<Figure size 432x288 with 1 Axes>"
            ]
          },
          "metadata": {
            "tags": [],
            "needs_background": "light"
          }
        },
        {
          "output_type": "stream",
          "text": [
            "3\n"
          ],
          "name": "stdout"
        },
        {
          "output_type": "display_data",
          "data": {
            "image/png": "[encoded data removed]",
            "text/plain": [
              "<Figure size 432x288 with 1 Axes>"
            ]
          },
          "metadata": {
            "tags": [],
            "needs_background": "light"
          }
        },
        {
          "output_type": "display_data",
          "data": {
            "image/png": "[encoded data removed]",
            "text/plain": [
              "<Figure size 432x288 with 1 Axes>"
            ]
          },
          "metadata": {
            "tags": [],
            "needs_background": "light"
          }
        },
        {
          "output_type": "stream",
          "text": [
            "4\n"
          ],
          "name": "stdout"
        },
        {
          "output_type": "display_data",
          "data": {
            "image/png": "[encoded data removed]",
            "text/plain": [
              "<Figure size 432x288 with 1 Axes>"
            ]
          },
          "metadata": {
            "tags": [],
            "needs_background": "light"
          }
        },
        {
          "output_type": "display_data",
          "data": {
            "image/png": "[encoded data removed]",
            "text/plain": [
              "<Figure size 432x288 with 1 Axes>"
            ]
          },
          "metadata": {
            "tags": [],
            "needs_background": "light"
          }
        },
        {
          "output_type": "stream",
          "text": [
            "5\n"
          ],
          "name": "stdout"
        },
        {
          "output_type": "display_data",
          "data": {
            "image/png": "[encoded data removed]",
            "text/plain": [
              "<Figure size 432x288 with 1 Axes>"
            ]
          },
          "metadata": {
            "tags": [],
            "needs_background": "light"
          }
        },
        {
          "output_type": "display_data",
          "data": {
            "image/png": "[encoded data removed]",
            "text/plain": [
              "<Figure size 432x288 with 1 Axes>"
            ]
          },
          "metadata": {
            "tags": [],
            "needs_background": "light"
          }
        },
        {
          "output_type": "stream",
          "text": [
            "6\n"
          ],
          "name": "stdout"
        },
        {
          "output_type": "display_data",
          "data": {
            "image/png": "[encoded data removed]",
            "text/plain": [
              "<Figure size 432x288 with 1 Axes>"
            ]
          },
          "metadata": {
            "tags": [],
            "needs_background": "light"
          }
        },
        {
          "output_type": "display_data",
          "data": {
            "image/png": "[encoded data removed]",
            "text/plain": [
              "<Figure size 432x288 with 1 Axes>"
            ]
          },
          "metadata": {
            "tags": [],
            "needs_background": "light"
          }
        },
        {
          "output_type": "stream",
          "text": [
            "7\n"
          ],
          "name": "stdout"
        },
        {
          "output_type": "display_data",
          "data": {
            "image/png": "[encoded data removed]",
            "text/plain": [
              "<Figure size 432x288 with 1 Axes>"
            ]
          },
          "metadata": {
            "tags": [],
            "needs_background": "light"
          }
        },
        {
          "output_type": "display_data",
          "data": {
            "image/png": "[encoded data removed]",
            "text/plain": [
              "<Figure size 432x288 with 1 Axes>"
            ]
          },
          "metadata": {
            "tags": [],
            "needs_background": "light"
          }
        },
        {
          "output_type": "stream",
          "text": [
            "8\n"
          ],
          "name": "stdout"
        },
        {
          "output_type": "display_data",
          "data": {
            "image/png": "[encoded data removed]",
            "text/plain": [
              "<Figure size 432x288 with 1 Axes>"
            ]
          },
          "metadata": {
            "tags": [],
            "needs_background": "light"
          }
        },
        {
          "output_type": "display_data",
          "data": {
            "image/png": "[encoded data removed]",
            "text/plain": [
              "<Figure size 432x288 with 1 Axes>"
            ]
          },
          "metadata": {
            "tags": [],
            "needs_background": "light"
          }
        },
        {
          "output_type": "stream",
          "text": [
            "9\n"
          ],
          "name": "stdout"
        },
        {
          "output_type": "display_data",
          "data": {
            "image/png": "[encoded data removed]",
            "text/plain": [
              "<Figure size 432x288 with 1 Axes>"
            ]
          },
          "metadata": {
            "tags": [],
            "needs_background": "light"
          }
        },
        {
          "output_type": "display_data",
          "data": {
            "image/png": "[encoded data removed]",
            "text/plain": [
              "<Figure size 432x288 with 1 Axes>"
            ]
          },
          "metadata": {
            "tags": [],
            "needs_background": "light"
          }
        }
      ]
    }
  ]
}